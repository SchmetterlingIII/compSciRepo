{
 "cells": [
  {
   "cell_type": "markdown",
   "metadata": {},
   "source": [
    "###1. Study Planner (Lists)\n",
    "Write a program that:\n",
    "\n",
    "    Allows the users to create a study plan for week by of the 4 subjects they take, adding subjects and topics to a list.\n",
    "    Provides functionality via a simple menu for the following operations:\n",
    "        Get the subjects in as user input\n",
    "        Display all subjects and topics in the study plan in a user friendly way - using meaningful titles\n",
    "        Search for a specific subject or topic to check if it is in the study plan.\n",
    "        Remove a subject or topic from the plan if it is no longer needed."
   ]
  },
  {
   "cell_type": "markdown",
   "metadata": {},
   "source": [
    "##Potential Pseudocode:\n",
    "    - Inputs of subjects + associated topics for each subject into a structure\n",
    "    - Displays 3 inputs of the topic they want to study each day after school (Mon - Fri)\n",
    "    - This will be displayed into a table\n",
    "    - If 's' (or some other triggering key) is pressed, then it allows the user to first search for a subject (with that, it will display all the associated topics below it, as well as the associated days of the week that they occur)"
   ]
  }
 ],
 "metadata": {
  "language_info": {
   "name": "python"
  }
 },
 "nbformat": 4,
 "nbformat_minor": 2
}
