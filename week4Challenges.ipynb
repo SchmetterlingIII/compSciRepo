{
 "cells": [
  {
   "cell_type": "markdown",
   "metadata": {},
   "source": [
    "###1. Study Planner (Lists)\n",
    "Write a program that:\n",
    "\n",
    "    Allows the users to create a study plan for week by of the 4 subjects they take, adding subjects and topics to a list.\n",
    "    Provides functionality via a simple menu for the following operations:\n",
    "        Get the subjects in as user input\n",
    "        Display all subjects and topics in the study plan in a user friendly way - using meaningful titles\n",
    "        Search for a specific subject or topic to check if it is in the study plan.\n",
    "        Remove a subject or topic from the plan if it is no longer needed."
   ]
  },
  {
   "cell_type": "code",
   "execution_count": null,
   "metadata": {},
   "outputs": [],
   "source": [
    "def study_planner():\n",
    "    subjects = []\n",
    "    print(\"You will have the opportunity to add your subjects into the list below. When you are finished, just press 'done'.\\nNow enter your subjects: \")\n",
    "    while True:\n",
    "        subj = str(input('--'))\n",
    "        if subj.lower() == 'done':\n",
    "            break\n",
    "        else:\n",
    "            subjects.append(subj)\n",
    "# display all the options and associate a number with them (e.g. '1. maths \\n 2. d.t.' so that the user has an option to upload their topics underneath each section)\n",
    "    nested_list = [[index, subject, []] for index, subject in enumerate(subjects)]\n",
    "    print(\"You will now be given the option to choose a subject from your inputs to add topics to, using the number I have associated it with:\")\n",
    "    for i in enumerate(nested_list): \n",
    "        print(f\"{i[0]+1}. {i[1][1]}\")\n",
    "        \n",
    "    verity = True\n",
    "    while verity:\n",
    "        subject_input = int(input(\"Now enter your subjects that you wish to add topics to (unless you're done, then just press '0'): \"))\n",
    "        if subject_input == 0:\n",
    "            verity = False\n",
    "            break\n",
    "        else:\n",
    "            for i in enumerate(nested_list):\n",
    "                if subject_input == i[0] + 1:\n",
    "                    changes = input(f\"This is your subject, {i[1][1]}.\\nNow add the associated topics that you wish to change within it:\")\n",
    "                    nested_list[i[0]][2].append(changes)\n",
    "                    break\n",
    "\n",
    "    '''next steps: \n",
    "    - outputs all results in a tabulated list\n",
    "    - gives the option to go back (if pressed a certain word or specific shortcut)\n",
    "    - (unnecessary extension) validating each step of the process\n",
    "    ''' \n",
    "    \n",
    "    print(\"Here are all your subjects:\")\n",
    "\n",
    "study_planner()"
   ]
  },
  {
   "cell_type": "markdown",
   "metadata": {},
   "source": [
    "##Potential Pseudocode:\n",
    "    - Inputs of subjects + associated topics for each subject into a structure\n",
    "    - Displays 3 inputs of the topic they want to study each day after school (Mon - Fri)\n",
    "    - This will be displayed into a table\n",
    "    - If 's' (or some other triggering key) is pressed, then it allows the user to first search for a subject (with that, it will display all the associated topics below it, as well as the associated days of the week that they occur)"
   ]
  }
 ],
 "metadata": {
  "language_info": {
   "name": "python"
  }
 },
 "nbformat": 4,
 "nbformat_minor": 2
}
