{
 "cells": [
  {
   "cell_type": "markdown",
   "metadata": {},
   "source": [
    "###1. Study Planner (Lists)\n",
    "Write a program that:\n",
    "\n",
    "    Allows the users to create a study plan for week by of the 4 subjects they take, adding subjects and topics to a list.\n",
    "    Provides functionality via a simple menu for the following operations:\n",
    "        Get the subjects in as user input\n",
    "        Display all subjects and topics in the study plan in a user friendly way - using meaningful titles\n",
    "        Search for a specific subject or topic to check if it is in the study plan.\n",
    "        Remove a subject or topic from the plan if it is no longer needed."
   ]
  },
  {
   "cell_type": "code",
   "execution_count": null,
   "metadata": {},
   "outputs": [],
   "source": [
    "def study_planner():\n",
    "    subjects = []\n",
    "    print(\"You will have the opportunity to add your subjects into the list below. When you are finished, just press 'done'.\\nNow enter your subjects: \")\n",
    "    while True:\n",
    "        subj = str(input('--'))\n",
    "        if subj.lower() == 'done':\n",
    "            break\n",
    "        else:\n",
    "            subjects.append(subj)\n",
    "# display all the options and associate a number with them (e.g. '1. maths \\n 2. d.t.' so that the user has an option to upload their topics underneath each section)\n",
    "    nested_list = [[index, subject, []] for index, subject in enumerate(subjects)]\n",
    "    print(\"You will now be given the option to choose a subject from your inputs to add topics to, using the number I have associated it with:\")\n",
    "    for i in enumerate(nested_list): \n",
    "        print(f\"{i[0]+1}. {i[1][1]}\")\n",
    "        \n",
    "    verity = True\n",
    "    while verity:\n",
    "        subject_input = int(input(\"Now enter your subject that you wish to add topics to (unless you wish to leave it blank, then just press '0'): \"))\n",
    "        if subject_input == 0:\n",
    "            verity = False\n",
    "            break\n",
    "        else:\n",
    "            for i in enumerate(nested_list):\n",
    "                if subject_input == i[0] + 1:\n",
    "                    changes = input(f\"Now add the associated topics that you wish to change within your subject, '{i[1][1]}':\")\n",
    "                    nested_list[i[0]][2].append(changes)\n",
    "                    break\n",
    "\n",
    "    other_list_function = [(tup[1], tup[2]) for tup in nested_list]\n",
    "    presentation_list = [(i) for i in other_list_function]\n",
    "    print(f\"Here are all your subjects with their associated topics:\")\n",
    "    for i in presentation_list:\n",
    "        clean_output = \",\".join(i[1]) if isinstance(i[1], list) else str(i[1])\n",
    "        print(f\"{i[0]}: {clean_output}\\n\")\n",
    "    \n",
    "study_planner()\n"
   ]
  },
  {
   "cell_type": "markdown",
   "metadata": {},
   "source": [
    "#Research Notes Organiser (Dictionaries)\n",
    "\n",
    "Write a program that: \n",
    "    - Helps organise research notes for Chemistry or D.T. by storing notes under categories (e.g. 'Materials', 'Processes', 'Safety')\n",
    "    - Provides functionality to:\n",
    "        - Add new notes to a category\n",
    "        - Search for a category and display all notes within it\n",
    "        - Delete a category if it is no longer needed\n",
    "        - Display all categeories and thier corresponding notes using a loop"
   ]
  },
  {
   "cell_type": "code",
   "execution_count": null,
   "metadata": {},
   "outputs": [],
   "source": [
    "#creating categories to which you can edit later -- creating the dictionaries to store these\n",
    "subjects = input(\"What are your subjects (separating them by commas): \")\n",
    "subject_list = subjects.split(\", \")\n",
    "subject_dict = {}\n",
    "for i in subject_list:\n",
    "    subject_dict[i.lower()] = []\n",
    "\n",
    "#the ability to add new notes to a category\n",
    "search_dict = input(\"Type in a category that you would like to search for: \")\n",
    "for i in subject_dict:\n",
    "    if i == search_dict.lower():\n",
    "        change_dict = input(\"What do you want to add to this key: \")\n",
    "        subject_dict[i] = change_dict\n",
    "\n",
    "#the ability to delete a category that is no longer needed\n",
    "delete_dict_call = input(\"Are there any titles that you would like to delete from this list? (Say yes if you do): \")\n",
    "if delete_dict_call.lower() == \"yes\":\n",
    "    delete_dict = input(\"Now enter the titles that you wish to remove: \")\n",
    "    for i in subject_dict:\n",
    "        if i == delete_dict:\n",
    "            del subject_dict[i]\n",
    "            break\n",
    "\n",
    "print(subject_dict)"
   ]
  }
 ],
 "metadata": {
  "language_info": {
   "name": "python"
  }
 },
 "nbformat": 4,
 "nbformat_minor": 2
}
