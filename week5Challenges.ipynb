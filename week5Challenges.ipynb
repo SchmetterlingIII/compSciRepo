{
 "cells": [
  {
   "cell_type": "markdown",
   "metadata": {},
   "source": [
    "#Student Score Entry\n",
    "Write a program that:\n",
    "    Uses a function to ask the user to enter student test scores.\n",
    "    Ensures only numbers between 0 and 100 are accepted (input validation).\n",
    "    Stores valid scores in a list.\n",
    "    Uses a loop to allow multiple entries until the user decides to stop.\n",
    "    Uses another function to display all scores in a formatted list."
   ]
  },
  {
   "cell_type": "code",
   "execution_count": null,
   "metadata": {},
   "outputs": [],
   "source": [
    "def score_entry():\n",
    "    while True: \n",
    "        try:\n",
    "            #need to make this a while loop, such that the small_list values can be recycled (i.e. emptied) whilst the big_list is outside of the loop, and therefore retains all the values \n",
    "            big_list = []\n",
    "            small_list = []\n",
    "            subject = input(\"Enter a subject for which you have received a score: \")\n",
    "            number = int(input(\"Enter that score that you recieved: \"))\n",
    "            small_list.append(subject)\n",
    "            small_list.append(number)\n",
    "            big_list.append(small_list)\n",
    "            cont = int(input(\"Press 1 to continue and otherwise to exit.\"))\n",
    "            if cont == 1:\n",
    "                continue\n",
    "            else:\n",
    "                for i in big_list:\n",
    "                    print(f\"{i[0]}: {i[1]}\\n\")\n",
    "                break\n",
    "            #main code thing\n",
    "\n",
    "'''errors with code:\n",
    "    - it's only printing out the final entry in the list\n",
    "    - it allows non-alpha inputs into the subject name (and likewise for the number inputs)\n",
    "    - all invalid inputs run the code to the beginning of the loop (therefore should use functions and call them from outside of the code to ensure everything is running smoothly)\n",
    "    - overall not that good'''\n",
    "        except ValueError:\n",
    "            print(\"Invalid Input\")\n",
    "            #specific error message that has arrived i.e. except {specific error}\n",
    "\n",
    "        \n",
    "score_entry()"
   ]
  }
 ],
 "metadata": {
  "language_info": {
   "name": "python"
  }
 },
 "nbformat": 4,
 "nbformat_minor": 2
}
