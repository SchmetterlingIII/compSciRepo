{
 "cells": [
  {
   "cell_type": "markdown",
   "metadata": {},
   "source": [
    "## Challenge One: Temperature Converter\n"
   ]
  },
  {
   "cell_type": "code",
   "execution_count": null,
   "metadata": {},
   "outputs": [],
   "source": [
    "def temperatureConverter():\n",
    "    tempCelc = float(input(\"Input the temperature value in celcius: \"))\n",
    "    celcToFahr = tempCelc * 9/5 + 32\n",
    "    print(f'{tempCelc} celcius is {celcToFahr:.2f} fahrenheit')\n",
    "\n",
    "    tempFahr = float(input(\"Input the temperature value in fahrenheit: \"))\n",
    "    fahrToCelc = (tempFahr - 32) * 5/9\n",
    "    print(f' {tempFahr} fahrenheit is {fahrToCelc:.2f} celcius')"
   ]
  },
  {
   "cell_type": "markdown",
   "metadata": {},
   "source": [
    "## Challenge Two"
   ]
  },
  {
   "cell_type": "code",
   "execution_count": null,
   "metadata": {},
   "outputs": [],
   "source": [
    "def enhancedCalc():\n",
    "    first = float(input(\"Enter your first number: \"))\n",
    "    second = float(input(\"Enter your second number: \"))\n",
    "\n",
    "    sum = first + second\n",
    "\n",
    "    difference = 0 \n",
    "    quotient = 0 \n",
    "    if first > second:\n",
    "        difference = first - second\n",
    "        quotient = first%second\n",
    "    else:\n",
    "        difference = second - first\n",
    "        quotient = second%first\n",
    "\n",
    "    product = first * second\n",
    "\n",
    "    print(f'''Your sum is {sum:.2f}\\nThe difference is {difference:.2f}\\nProduct: {product:.2f}\\nQuotient: {quotient:.2f}''')\n"
   ]
  },
  {
   "cell_type": "markdown",
   "metadata": {},
   "source": [
    "## Challenge Three"
   ]
  },
  {
   "cell_type": "code",
   "execution_count": null,
   "metadata": {},
   "outputs": [],
   "source": [
    "#string manipulation with functions\n",
    "full_name = input(\"Enter your full name, with spaces: \")\n",
    "nameList= full_name.split()\n",
    "initials = nameList[0][0].upper() + nameList[1][0].upper()\n",
    "\n",
    "totalNoChar = len(nameList[0] + nameList[1])\n",
    "print(f' Your initials are: {initials}\\n Total number of characters (exluding spaces): {totalNoChar}')\n",
    "\n",
    "choiceGiven = input(\"Would you like your name in reverse order: (Y/N)\").upper()\n",
    "\n",
    "if choiceGiven == 'Y':\n",
    "    reverseName = full_name[::-1]\n",
    "    print(reverseName)\n",
    "else:\n",
    "    print(\"Thank you\")\n"
   ]
  }
 ],
 "metadata": {
  "language_info": {
   "name": "python"
  }
 },
 "nbformat": 4,
 "nbformat_minor": 2
}
