{
 "cells": [
  {
   "cell_type": "markdown",
   "metadata": {},
   "source": [
    "An earlier task that was neglected: I may code this out eventually. "
   ]
  },
  {
   "cell_type": "code",
   "execution_count": null,
   "metadata": {
    "vscode": {
     "languageId": "plaintext"
    }
   },
   "outputs": [],
   "source": [
    "This task will consolidate your knowledge of iteration, selection, sequence, functions, file handling, and modular programming. Your goal is to create a Library Management System to manage books and users. The program will consist of smaller manageable components, which you should develop and test individually before integrating them.\n",
    "\n",
    "Task Requirements\n",
    "Part I: Core Features\n",
    "\t1. User Authentication:\n",
    "\t\t○ Create a login system for library staff. Store usernames and passwords in a text file. The system should:\n",
    "\t\t\t§ Allow new staff to register.\n",
    "\t\t\t§ Validate login credentials.\n",
    "\t\t\t§ Prevent unauthorized access.\n",
    "\t2. Manage Books:\n",
    "\t\t○ Create a system that allows staff to:\n",
    "\t\t\t§ Add a new book (title, author, ISBN, and availability status).\n",
    "\t\t\t§ Remove a book by its ISBN.\n",
    "\t\t\t§ Update book details.\n",
    "\t\t\t§ Search for a book by title or author.\n",
    "\t\t○ All book records should be stored in a text file in CSV format.\n",
    "\t3. Borrow and Return Books:\n",
    "\t\t○ Create functionality for borrowing and returning books:\n",
    "\t\t\t§ A user can borrow a book if it’s available. Update the availability status accordingly.\n",
    "\t\t\t§ When a book is returned, mark it as available again.\n",
    "\t\t○ Track borrow and return dates using a text file.\n",
    "\n",
    "__________________________________________________________________________________________\n",
    "\n",
    "Part II: Advanced Features\n",
    "\t1. Generate Reports:\n",
    "\t\t○ Create a feature to generate and save a report showing:\n",
    "\t\t\t§ The total number of books.\n",
    "\t\t\t§ The number of available and borrowed books.\n",
    "\t\t\t§ A list of overdue books (borrowed for more than 14 days).\n",
    "\t2. Reusable Functions and Modules:\n",
    "\t\t○ Write reusable functions for common tasks like validating input, reading/writing to files, and updating records.\n",
    "\t\t○ Split your program into multiple files/modules for better organisation.\n",
    "\n",
    "___________________________________________________________________________________________\n",
    "\n",
    "\n",
    "Part III: Additional Challenges\n",
    "\t1. Implement Timed Features:\n",
    "\t\t○ Include a timed login session (e.g., automatically log out after 5 minutes of inactivity).\n",
    "\t\t○ Set a timeout for book searches or updates.\n",
    "\t2. Error Handling:\n",
    "\t\t○ Add robust error handling to prevent the program from crashing due to invalid inputs (e.g., non-integer values, missing files).\n",
    "\t3. User-Friendly Interface:\n",
    "\t\t○ Create a menu-driven interface for staff to navigate the system easily.\n",
    "\t\t○ Display clear messages for each action.\n",
    "______________________________________________________________________________________________\n",
    "Stretch Challenge (Optional)\n",
    "\t• Graphical Report: Generate a graphical representation (e.g., a bar chart) of book availability using a library like matplotlib.\n",
    "\t• Email Notifications: Add a feature to send email reminders to users about overdue books (requires external libraries like smtplib).\n",
    "\t• Database Integration: Instead of text files, store data in a SQLite database for faster access and better structure.\n"
   ]
  }
 ],
 "metadata": {
  "language_info": {
   "name": "python"
  }
 },
 "nbformat": 4,
 "nbformat_minor": 2
}
