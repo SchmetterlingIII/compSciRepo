{
 "cells": [
  {
   "cell_type": "markdown",
   "metadata": {},
   "source": [
    "#Simple Student Class\n",
    "Write a student class with the following:\n",
    "\n",
    "##Attributes: \n",
    "    name :   The student's name.\n",
    "    age :    The student's age.\n",
    "    grade :  The student's current grade.\n",
    "##Method:\n",
    "    display_info() : Print the student's details.\n",
    "    Create a few instances of the student class"
   ]
  },
  {
   "cell_type": "code",
   "execution_count": null,
   "metadata": {},
   "outputs": [],
   "source": [
    "import random\n",
    "class Student: \n",
    "    def __init__(self, name, age, grade):\n",
    "        self.name = name\n",
    "        self.age = age\n",
    "        self.grade = grade\n",
    "    def output(self):\n",
    "        return f'name: {self.name}\\nage: {self.age}\\ngrade: {self.grade}'\n",
    "nameList = ['Reuben', 'Jacob', 'India', 'Deuteronomy']\n",
    "randome_age = random.randint(1, 100)\n",
    "random_grade = random.randint(100)\n",
    "\n",
    "for i in range(4):\n",
    "    variable = Student.output()\n",
    "    grade_edit = input(\"What do you want your new grade to be: \")\n",
    "    #to include the grade changing aspect later\n",
    "    print(variable)"
   ]
  },
  {
   "cell_type": "markdown",
   "metadata": {},
   "source": [
    "#Book Class\n",
    "Create a Book class with: \n"
   ]
  }
 ],
 "metadata": {
  "language_info": {
   "name": "python"
  }
 },
 "nbformat": 4,
 "nbformat_minor": 2
}
