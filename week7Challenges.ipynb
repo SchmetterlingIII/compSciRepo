{
 "cells": [
  {
   "cell_type": "markdown",
   "metadata": {},
   "source": [
    "#Simple Student Class\n",
    "Write a student class with the following:\n",
    "\n",
    "##Attributes: \n",
    "    name :   The student's name.\n",
    "    age :    The student's age.\n",
    "    grade :  The student's current grade.\n",
    "##Method:\n",
    "    display_info() : Print the student's details.\n",
    "    Create a few instances of the student class"
   ]
  },
  {
   "cell_type": "code",
   "execution_count": null,
   "metadata": {},
   "outputs": [],
   "source": [
    "class Student:\n",
    "    def __init__(self, name, age, grade):\n",
    "        self.name = name\n",
    "        self.age = age\n",
    "        self.grade = grade\n",
    "        \n",
    "    def display_info(self):\n",
    "        print(f'{self.name}, {self.age}, {self.grade}')\n",
    "    \n",
    "    def update_grade(self):\n",
    "        gradeInput = input(\"Enter your new grade: \")\n",
    "        self.grade = gradeInput\n",
    "        self.display_info()\n",
    "    \n",
    "student1 = Student(\"Alice\", 8, 9)\n",
    "student2 = Student(\"Jennefner\", 44, 2)\n",
    "student1.display_info()\n",
    "student2.update_grade()"
   ]
  },
  {
   "cell_type": "markdown",
   "metadata": {},
   "source": [
    "#Book Class\n",
    "Create a Book class with: \n",
    "Attributes:\n",
    "title : The title of the book.\n",
    "author : The author of the book.\n",
    "year : The year the book was published.\n",
    "Method:\n",
    "book_info() : Print the book's details.\n",
    "Create a few book instances\n",
    "Stretch Task:\n",
    "Add a method is_classic() that returns True if the book was published before 1970."
   ]
  },
  {
   "cell_type": "code",
   "execution_count": null,
   "metadata": {},
   "outputs": [],
   "source": [
    "class Book:\n",
    "    def __init__(self, title, author, year):\n",
    "        self.title = title\n",
    "        self.author = author\n",
    "        self.year = year\n",
    "\n",
    "    def book_info(self):\n",
    "        print(f'{self.title}, {self.author}, {self.year}\\n')\n",
    "        \n",
    "    def is_classic(self):\n",
    "        peak_fiction = False\n",
    "        if self.year < 1970:\n",
    "            peak_fiction = True\n",
    "            print(f\"{self.title} is a classic:\")\n",
    "            self.book_info()\n",
    "            return peak_fiction #seems redundant\n",
    "        else:\n",
    "            self.book_info()\n",
    "            return not peak_fiction #seems very redundant\n",
    "\n",
    "book1 = Book(\"American Psycho\", \"Bret Easton Ellis\", 1991)\n",
    "book2 = Book(\"Blood Meridian\", \"Cormac McCarthy\", 1945) # actually written in 1985\n",
    "book3 = Book(\"Fouloscopie\", \"Mehdi Moussaid\", 2019)\n",
    "\n",
    "\n",
    "book1.is_classic()\n",
    "book2.is_classic()\n",
    "book3.is_classic()"
   ]
  },
  {
   "cell_type": "markdown",
   "metadata": {},
   "source": []
  }
 ],
 "metadata": {
  "language_info": {
   "name": "python"
  }
 },
 "nbformat": 4,
 "nbformat_minor": 2
}
