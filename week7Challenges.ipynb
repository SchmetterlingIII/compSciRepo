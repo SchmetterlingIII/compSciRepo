{
 "cells": [
  {
   "cell_type": "markdown",
   "metadata": {},
   "source": [
    "#Simple Student Class\n",
    "Write a student class with the following:\n",
    "\n",
    "##Attributes: \n",
    "    name :   The student's name.\n",
    "    age :    The student's age.\n",
    "    grade :  The student's current grade.\n",
    "##Method:\n",
    "    display_info() : Print the student's details.\n",
    "    Create a few instances of the student class"
   ]
  },
  {
   "cell_type": "code",
   "execution_count": null,
   "metadata": {},
   "outputs": [],
   "source": [
    "class Student:\n",
    "    def __init__(self, name, age, grade):\n",
    "        self.name = name\n",
    "        self.age = age\n",
    "        self.grade = grade\n",
    "        \n",
    "    def display_info(self):\n",
    "        print(f'{self.name}, {self.age}, {self.grade}')\n",
    "    \n",
    "    def update_grade(self):\n",
    "        gradeInput = input(\"Enter your new grade: \")\n",
    "        self.grade = gradeInput\n",
    "        self.display_info()\n",
    "    \n",
    "student1 = Student(\"Alice\", 8, 9)\n",
    "student2 = Student(\"Jennefner\", 44, 2)\n",
    "student1.display_info()\n",
    "student2.update_grade()"
   ]
  },
  {
   "cell_type": "markdown",
   "metadata": {},
   "source": [
    "#Book Class\n",
    "Create a Book class with: \n",
    "Attributes:\n",
    "title : The title of the book.\n",
    "author : The author of the book.\n",
    "year : The year the book was published.\n",
    "Method:\n",
    "book_info() : Print the book's details.\n",
    "Create a few book instances\n",
    "Stretch Task:\n",
    "Add a method is_classic() that returns True if the book was published before 1970."
   ]
  },
  {
   "cell_type": "code",
   "execution_count": null,
   "metadata": {},
   "outputs": [],
   "source": [
    "class Book:\n",
    "    def __init__(self, title, author, year):\n",
    "        self.title = title\n",
    "        self.author = author\n",
    "        self.year = year\n",
    "\n",
    "    def book_info(self):\n",
    "        print(f'{self.title}, {self.author}, {self.year}\\n')\n",
    "        \n",
    "    def is_classic(self):\n",
    "        peak_fiction = False\n",
    "        if self.year < 1970:\n",
    "            peak_fiction = True\n",
    "            print(f\"{self.title} is a classic:\")\n",
    "            self.book_info()\n",
    "            return peak_fiction #seems redundant\n",
    "        else:\n",
    "            self.book_info()\n",
    "            return not peak_fiction #seems very redundant\n",
    "\n",
    "book1 = Book(\"American Psycho\", \"Bret Easton Ellis\", 1991)\n",
    "book2 = Book(\"Blood Meridian\", \"Cormac McCarthy\", 1945) # actually written in 1985\n",
    "book3 = Book(\"Fouloscopie\", \"Mehdi Moussaid\", 2019)\n",
    "\n",
    "\n",
    "book1.is_classic()\n",
    "book2.is_classic()\n",
    "book3.is_classic()"
   ]
  },
  {
   "cell_type": "markdown",
   "metadata": {},
   "source": [
    "#Bank Account Simulation\n",
    "Create a BankAccount class with:\n",
    "\n",
    "Attributes:\n",
    "account_number : The unique number for the bank account.\n",
    "balance : The current balance of the account.\n",
    "Methods:\n",
    "deposit(amount) : Add money to the account.\n",
    "withdraw(amount) : Deduct money if sufficient balance exists.\n",
    "display_balance() : Show the current balance.\n",
    "Create instances of 3 different bank accounts\n",
    "\n",
    "Stretch Task:\n",
    "Add transaction history by storing each deposit and withdrawal in a list."
   ]
  },
  {
   "cell_type": "code",
   "execution_count": null,
   "metadata": {},
   "outputs": [],
   "source": [
    "class BankAccount:\n",
    "    def __init__(self, acc_no, balance):\n",
    "        self.acc_no = acc_no\n",
    "        self.balance = balance\n",
    "    \n",
    "    def deposit(self, amount):\n",
    "        print(f\"Current account: {self.balance}\") \n",
    "        new_balance = self.balance + amount\n",
    "        self.balance = new_balance\n",
    "        self.display_balance()\n",
    "        \n",
    "    def withdraw(self, amount):\n",
    "        print(f\"Current account: {self.balance}\") \n",
    "        new_balance = self.balance - amount\n",
    "        self.balance = new_balance\n",
    "        self.display_balance()\n",
    "    \n",
    "    def display_balance(self):\n",
    "        list_digits = [i for i in str(self.acc_no)]\n",
    "        four_digits = list_digits[-4:]\n",
    "        four = \"\".join(four_digits)\n",
    "        print(f\"The balance in your current account (with your account number ending in **{four}**) is {self.balance}\")\n",
    "        \n",
    "#could experiment with randomising account number (random no 1-9, eight times)\n",
    "#randomising balance would simply be randint(1, 10000)\n",
    "card1 = BankAccount(72982309, 3298888)\n",
    "card2 = BankAccount(23882233, 1390)\n",
    "\n",
    "card1.deposit(465789)\n",
    "\n",
    "##Stretch task: TBC"
   ]
  },
  {
   "cell_type": "markdown",
   "metadata": {},
   "source": []
  }
 ],
 "metadata": {
  "language_info": {
   "name": "python"
  }
 },
 "nbformat": 4,
 "nbformat_minor": 2
}
