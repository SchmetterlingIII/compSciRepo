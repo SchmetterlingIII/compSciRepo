{
 "cells": [
  {
   "cell_type": "markdown",
   "metadata": {},
   "source": [
    "### ChallengeOne: simple_decisions_\n",
    "Write a program that asks the user for a number and prints:\n",
    "\n",
    "\"Positive\" if the number is greater than zero.\n",
    "\"Negative\" if the number is less than zero.\n",
    "\"Zero\" if the number is exactly zero."
   ]
  },
  {
   "cell_type": "code",
   "execution_count": null,
   "metadata": {},
   "outputs": [],
   "source": [
    "#asking for a number input from user\n",
    "num = float(input(\"Enter a number, any number: \"))\n",
    "\n",
    "if num == 0:\n",
    "    print(\"Zero\")\n",
    "elif num>0: \n",
    "    print(\"Positive\")\n",
    "elif num<0:\n",
    "    print(\"Negative\")"
   ]
  },
  {
   "cell_type": "markdown",
   "metadata": {},
   "source": [
    "### ChallengeTwo: guess_the_number\n",
    "Write a program where the computer randomly chooses a number between 1 and 10, and the user has to guess it. Provide hints such as \"Too high\" or \"Too low.\""
   ]
  },
  {
   "cell_type": "code",
   "execution_count": null,
   "metadata": {},
   "outputs": [],
   "source": [
    "from random import randint\n",
    "\n",
    "def guess():\n",
    "    rand = randint(1,10)\n",
    "    not_guess = True\n",
    "    while not_guess:\n",
    "        guess = int(input(\"Guess a number between 1 and 10 (inclusive): \"))\n",
    "        if guess == rand:\n",
    "            print('Right answer!')\n",
    "            not_guess = False \n",
    "            break\n",
    "        elif guess > rand:\n",
    "            print('Your guess is too high\\ntry again')\n",
    "        elif guess < rand:\n",
    "            print('Your number is too low\\ntry again')\n",
    "        else:\n",
    "            print('Your number is out of range\\ntry again')#\n",
    "\n",
    "guess()"
   ]
  },
  {
   "cell_type": "markdown",
   "metadata": {},
   "source": [
    "### ChallengeThree: multiplication_table\n",
    "Write a program that generates the multiplication table for a number entered by the user (e.g., 5 × 1 = 5 to 5 × 10 = 50)."
   ]
  },
  {
   "cell_type": "code",
   "execution_count": null,
   "metadata": {},
   "outputs": [],
   "source": [
    "def multiplication():\n",
    "    inp = int(input(\"Enter a number from 1 to 10, inclusive: \"))\n",
    "    for i in range(11):\n",
    "        print(f'{inp}*{i} = {inp * i}')\n",
    "multiplication()"
   ]
  },
  {
   "cell_type": "markdown",
   "metadata": {},
   "source": [
    "### ChallengeFour: countdown_timer\n",
    "Write a program using a while loop that takes an input number and counts down to 0, printing each number."
   ]
  },
  {
   "cell_type": "code",
   "execution_count": null,
   "metadata": {},
   "outputs": [],
   "source": [
    "def countdown():\n",
    "    inp = int(input(\"Enter an integer that isn't 0: \"))\n",
    "    if inp > 0:\n",
    "        large(inp)\n",
    "    elif inp < 0:\n",
    "        small(inp)\n",
    "    print(\"Finished\")\n",
    "\n",
    "def large(inp):\n",
    "    while inp > 0:\n",
    "        print(inp)\n",
    "        inp -= 1\n",
    "\n",
    "def small(inp):\n",
    "    while inp < 0:\n",
    "        print(inp)\n",
    "        inp += 1\n",
    "\n",
    "countdown()"
   ]
  },
  {
   "cell_type": "markdown",
   "metadata": {},
   "source": [
    "### ChallengeFive: fizz_buzz\n",
    "Write a program using a for loop that prints numbers from 1 to 50:\n",
    "\n",
    "For multiples of 3, print \"Fizz\" instead of the number.\n",
    "For multiples of 5, print \"Buzz\".\n",
    "For multiples of both, print \"FizzBuzz.\""
   ]
  },
  {
   "cell_type": "code",
   "execution_count": null,
   "metadata": {},
   "outputs": [],
   "source": [
    "def fizz():\n",
    "    for i in range(0, 51):\n",
    "        if i % 3 == 0 and i % 5 ==0:\n",
    "            print(\"FizzBuzz\")\n",
    "        elif i % 3 == 0:\n",
    "            print(\"Fizz\")\n",
    "        elif i % 5 == 0:\n",
    "            print(\"Buzz\")\n",
    "        else:\n",
    "            print(i)\n",
    "\n",
    "fizz()  "
   ]
  }
 ],
 "metadata": {
  "kernelspec": {
   "display_name": "Python 3 (ipykernel)",
   "language": "python",
   "name": "python3"
  },
  "language_info": {
   "codemirror_mode": {
    "name": "ipython",
    "version": 3
   },
   "file_extension": ".py",
   "mimetype": "text/x-python",
   "name": "python",
   "nbconvert_exporter": "python",
   "pygments_lexer": "ipython3",
   "version": "3.12.1"
  }
 },
 "nbformat": 4,
 "nbformat_minor": 2
}
