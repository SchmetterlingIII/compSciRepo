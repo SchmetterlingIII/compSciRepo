{
 "cells": [
  {
   "cell_type": "markdown",
   "metadata": {},
   "source": [
    "### ChallengeOne: simple_decisions_\n",
    "Write a program that asks the user for a number and prints:\n",
    "\n",
    "\"Positive\" if the number is greater than zero.\n",
    "\"Negative\" if the number is less than zero.\n",
    "\"Zero\" if the number is exactly zero."
   ]
  },
  {
   "cell_type": "code",
   "execution_count": null,
   "metadata": {},
   "outputs": [],
   "source": [
    "#asking for a number input from user\n",
    "num = float(input(\"Enter a number, any number: \"))\n",
    "\n",
    "if num == 0:\n",
    "    print(\"Zero\")\n",
    "elif num>0: \n",
    "    print(\"Positive\")\n",
    "elif num<0:\n",
    "    print(\"Negative\")"
   ]
  },
  {
   "cell_type": "markdown",
   "metadata": {},
   "source": [
    "### ChallengeTwo: guess_the_number\n",
    "Write a program where the computer randomly chooses a number between 1 and 10, and the user has to guess it. Provide hints such as \"Too high\" or \"Too low.\""
   ]
  },
  {
   "cell_type": "code",
   "execution_count": null,
   "metadata": {},
   "outputs": [],
   "source": []
  }
 ],
 "metadata": {
  "language_info": {
   "name": "python"
  }
 },
 "nbformat": 4,
 "nbformat_minor": 2
}
