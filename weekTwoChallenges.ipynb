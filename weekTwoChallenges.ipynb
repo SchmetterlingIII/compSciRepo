{
 "cells": [
  {
   "cell_type": "markdown",
   "metadata": {},
   "source": [
    "### ChallengeOne: simple_decisions_\n",
    "Write a program that asks the user for a number and prints:\n",
    "\n",
    "\"Positive\" if the number is greater than zero.\n",
    "\"Negative\" if the number is less than zero.\n",
    "\"Zero\" if the number is exactly zero."
   ]
  },
  {
   "cell_type": "code",
   "execution_count": null,
   "metadata": {},
   "outputs": [],
   "source": [
    "#asking for a number input from user\n",
    "num = float(input(\"Enter a number, any number: \"))\n",
    "\n",
    "if num == 0:\n",
    "    print(\"Zero\")\n",
    "elif num>0: \n",
    "    print(\"Positive\")\n",
    "elif num<0:\n",
    "    print(\"Negative\")"
   ]
  },
  {
   "cell_type": "markdown",
   "metadata": {},
   "source": [
    "### ChallengeTwo: guess_the_number\n",
    "Write a program where the computer randomly chooses a number between 1 and 10, and the user has to guess it. Provide hints such as \"Too high\" or \"Too low.\""
   ]
  },
  {
   "cell_type": "code",
   "execution_count": null,
   "metadata": {},
   "outputs": [],
   "source": [
    "from random import randint\n",
    "\n",
    "def guess():\n",
    "    rand = randint(1,10)\n",
    "    not_guess = True\n",
    "    while not_guess:\n",
    "        guess = int(input(\"Guess a number between 1 and 10 (inclusive): \"))\n",
    "        if guess == rand:\n",
    "            print('Right answer!')\n",
    "            not_guess = False \n",
    "            break\n",
    "        elif guess > rand:\n",
    "            print('Your guess is too high\\ntry again')\n",
    "        elif guess < rand:\n",
    "            print('Your number is too low\\ntry again')\n",
    "        else:\n",
    "            print('Your number is out of range\\ntry again')#\n",
    "\n",
    "guess()"
   ]
  },
  {
   "cell_type": "markdown",
   "metadata": {},
   "source": [
    "### ChallengeThree: multiplication_table\n",
    "Write a program that generates the multiplication table for a number entered by the user (e.g., 5 × 1 = 5 to 5 × 10 = 50)."
   ]
  },
  {
   "cell_type": "code",
   "execution_count": null,
   "metadata": {},
   "outputs": [],
   "source": [
    "def multiplication():\n",
    "    inp = int(input(\"Enter a number from 1 to 10, inclusive: \"))\n",
    "    for i in range(11):\n",
    "        print(f'{inp}*{i} = {inp * i}')\n",
    "multiplication()"
   ]
  }
 ],
 "metadata": {
  "language_info": {
   "name": "python"
  }
 },
 "nbformat": 4,
 "nbformat_minor": 2
}
