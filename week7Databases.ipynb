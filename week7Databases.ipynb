{
 "cells": [
  {
   "cell_type": "markdown",
   "id": "96523ea3",
   "metadata": {},
   "source": [
    "Generic Introduction to Databases"
   ]
  },
  {
   "cell_type": "code",
   "execution_count": null,
   "id": "567489b7",
   "metadata": {},
   "outputs": [],
   "source": [
    "# import the correct module\n",
    "import sqlite3\n",
    "\n",
    "# create a file called students.db\n",
    "with open(\"students.db\", 'a') as f:\n",
    "    print(\"\")\n",
    "\n",
    "# create a table\n",
    "def dbconnection(dbfile):\n",
    "    # creates connection and cursor objects which allows you to work with the databse\n",
    "    conn = sqlite3.connect(dbfile)\n",
    "    cur = conn.cursor()\n",
    "    print(\"Connection was successful\")\n",
    "    return conn, cur\n",
    "\n",
    "conn, cur = dbconnection(\"students.db\")\n",
    "cur.execute('''\n",
    "      CREATE TABLE IF NOT EXISTS tblstudents (\n",
    "      id INTEGER PRIMARY KEY AUTOINCREMENT,\n",
    "      name TEXT,\n",
    "      age INTEGER,\n",
    "      grade TEXT\n",
    "  )\n",
    "  ''')\n",
    "print(\"The table was created successfully\")\n"
   ]
  },
  {
   "cell_type": "markdown",
   "id": "2d506758",
   "metadata": {},
   "source": [
    "Challenge:\n",
    "[insert challenge brief]"
   ]
  },
  {
   "cell_type": "code",
   "execution_count": null,
   "id": "e628f70a",
   "metadata": {},
   "outputs": [],
   "source": []
  }
 ],
 "metadata": {
  "language_info": {
   "name": "python"
  }
 },
 "nbformat": 4,
 "nbformat_minor": 5
}
