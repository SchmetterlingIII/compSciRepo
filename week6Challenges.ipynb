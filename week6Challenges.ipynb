{
 "cells": [
  {
   "cell_type": "markdown",
   "metadata": {},
   "source": [
    "Write a program that:\n",
    "\n",
    "Prompts the user for their name and favorite color.\n",
    "Saves this information to user_info.txt.\n",
    "Reads the file and displays the saved information."
   ]
  },
  {
   "cell_type": "code",
   "execution_count": null,
   "metadata": {},
   "outputs": [],
   "source": [
    "def colours():\n",
    "    with open(\"filename.txt\", \"w\") as file:\n",
    "        prompt = input(\"Enter your name and your favourite colour: \")\n",
    "        file.write(prompt)\n",
    "    with open(\"filename.txt\", \"r\") as file:\n",
    "        readFile = file.read()\n",
    "        print(f\"Your inputs from the file are: {readFile}.\")\n",
    "colours()\n",
    "\n",
    "#very simple code "
   ]
  }
 ],
 "metadata": {
  "language_info": {
   "name": "python"
  }
 },
 "nbformat": 4,
 "nbformat_minor": 2
}
