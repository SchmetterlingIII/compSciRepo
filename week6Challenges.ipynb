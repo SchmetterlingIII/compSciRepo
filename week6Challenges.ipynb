{
 "cells": [
  {
   "cell_type": "markdown",
   "metadata": {},
   "source": [
    "#Challenge 1\n",
    "\n",
    "Write a program that:\n",
    "    Prompts the user for their name and favorite color.\n",
    "    Saves this information to user_info.txt.\n",
    "    Reads the file and displays the saved information."
   ]
  },
  {
   "cell_type": "code",
   "execution_count": null,
   "metadata": {},
   "outputs": [],
   "source": [
    "def colours():\n",
    "    with open(\"filename.txt\", \"w\") as file:\n",
    "        prompt = input(\"Enter your name and your favourite colour: \")\n",
    "        file.write(prompt)\n",
    "    with open(\"filename.txt\", \"r\") as file:\n",
    "        readFile = file.read()\n",
    "        print(f\"Your inputs from the file are: {readFile}.\")\n",
    "colours()\n",
    "\n",
    "#very simple code "
   ]
  },
  {
   "cell_type": "markdown",
   "metadata": {},
   "source": [
    "#Challenge 2\n",
    "\n",
    "Write a program that:\n",
    "\n",
    "    Reads a text file (sample.txt).\n",
    "    Counts and displays the frequency of each word in the file."
   ]
  },
  {
   "cell_type": "code",
   "execution_count": null,
   "metadata": {},
   "outputs": [],
   "source": [
    "#writing a text file that I (the user) will input a long exercept.\n",
    "def txt_file():\n",
    "    output = input(\"Enter excerpt: \")\n",
    "    with open(\"text_file.txt\", \"w\") as file:\n",
    "        final_output = file.write(output)\n",
    "        return final_output\n",
    "\n",
    "#reading the file\n",
    "def file_reading(final_output):\n",
    "    try: \n",
    "        with open(\"text_file.txt\", \"r\") as f:\n",
    "            readed = f.read()\n",
    "\n",
    "            #split each of the characters in the paragraph using a split function so that each word is now in a list form\n",
    "            fileList = readed.split()\n",
    "\n",
    "            #process to do with list such that it checks each instance in the list (manually and inefficiently)\n",
    "            frequency_list = [[i, 1] for i in fileList]\n",
    "            for i in frequency_list:\n",
    "                j = [j for j in fileList]\n",
    "                if i[0] == j[(i):]\n",
    "                    i[1] += 1\n",
    "            #intended outcome: there will be nested values in the list such that:\n",
    "            #- each input in the list has an associated number i.e. [[\"word\", 2 (frequency of word)], []]\n",
    "            #- when there is another occurance of the word in the list, then the number value += 1\n",
    "            #- complete for whole list\n",
    "            print(frequency_list)\n",
    "\n",
    "            #OUTPUTS: the number of words in the file + frequency of all the words (or top 10 for example)\n",
    "\n",
    "        '''Note: this feels like pretty inefficient code for larger inputs, but I will test with this first before iterating'''\n",
    "\n",
    "    except FileNotFoundError:\n",
    "        print(\"File not found.\")"
   ]
  }
 ],
 "metadata": {
  "language_info": {
   "name": "python"
  }
 },
 "nbformat": 4,
 "nbformat_minor": 2
}
