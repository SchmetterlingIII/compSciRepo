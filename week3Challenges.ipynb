{
 "cells": [
  {
   "cell_type": "markdown",
   "metadata": {},
   "source": [
    "###Challenge_One_: Circle Calculations\n",
    "Use the math module to write a program that calculates:\n",
    "\n",
    "The area of a circle: ( Area = pi r^2 )\n",
    "The circumference of a circle: ( Circumference = 2 pi r )"
   ]
  },
  {
   "cell_type": "code",
   "execution_count": null,
   "metadata": {},
   "outputs": [],
   "source": [
    "def circling():\n",
    "    from math import pi as p\n",
    "    numum = float(input(\"Enter the radius of your circle: \"))\n",
    "    area = p * (numum**2)\n",
    "    diameter = (2* numum) * p\n",
    "\n",
    "    print(f\"The area of your circle is {area:.3f}\\nThe diameter of your circle is {diameter:.3f}\")\n",
    "\n",
    "circling()"
   ]
  },
  {
   "cell_type": "markdown",
   "metadata": {},
   "source": [
    "###Challenge_Two: Dice Roll Simulation\n",
    "Write a program using the random module to simulate rolling two dice. Print the individual results and their sum."
   ]
  },
  {
   "cell_type": "code",
   "execution_count": null,
   "metadata": {},
   "outputs": [],
   "source": [
    "def rolling_dice():\n",
    "    from random import randint\n",
    "    dice1 = randint(1,6)\n",
    "    dice2 = randint(1,6)\n",
    "    print(f\"Your dice produced {dice1} and {dice2} when rolled and their sum is {dice1 + dice2}.\")\n",
    "\n",
    "rolling_dice()"
   ]
  }
 ],
 "metadata": {
  "language_info": {
   "name": "python"
  }
 },
 "nbformat": 4,
 "nbformat_minor": 2
}
