{
 "cells": [
  {
   "cell_type": "markdown",
   "metadata": {},
   "source": [
    "###Challenge_One_: Circle Calculations\n",
    "Use the math module to write a program that calculates:\n",
    "\n",
    "The area of a circle: ( Area = pi r^2 )\n",
    "The circumference of a circle: ( Circumference = 2 pi r )"
   ]
  },
  {
   "cell_type": "code",
   "execution_count": null,
   "metadata": {},
   "outputs": [],
   "source": [
    "def circling():\n",
    "    from math import pi as p\n",
    "    numum = float(input(\"Enter the radius of your circle: \"))\n",
    "    area = p * (numum**2)\n",
    "    diameter = (2* numum) * p\n",
    "\n",
    "    print(f\"The area of your circle is {area:.3f}\\nThe diameter of your circle is {diameter:.3f}\")\n",
    "\n",
    "circling()"
   ]
  },
  {
   "cell_type": "markdown",
   "metadata": {},
   "source": [
    "###Challenge_Two: Dice Roll Simulation\n",
    "Write a program using the random module to simulate rolling two dice. Print the individual results and their sum."
   ]
  },
  {
   "cell_type": "code",
   "execution_count": null,
   "metadata": {},
   "outputs": [],
   "source": [
    "def rolling_dice():\n",
    "    from random import randint\n",
    "    dice1 = randint(1,6)\n",
    "    dice2 = randint(1,6)\n",
    "    print(f\"Your dice produced {dice1} and {dice2} when rolled and their sum is {dice1 + dice2}.\")\n",
    "\n",
    "rolling_dice()"
   ]
  },
  {
   "cell_type": "markdown",
   "metadata": {},
   "source": [
    "###Challenge_Three: Countdown Timer\n",
    "Use the time module to write a program that asks the user for a countdown duration (in seconds) and prints the remaining time every second."
   ]
  },
  {
   "cell_type": "code",
   "execution_count": null,
   "metadata": {},
   "outputs": [],
   "source": [
    "def countdown():\n",
    "    import time\n",
    "    count = float(input(\"How long do you want the timer to last:\"))\n",
    "    start_time = time.time()\n",
    "\n",
    "    for i in range(int(count)):\n",
    "        if i+1 == 1:\n",
    "            print(f'{i+1} second has passed...')\n",
    "            time.sleep(1)\n",
    "        else:\n",
    "            print(f'{i+1} seconds have passed...')\n",
    "            time.sleep(1)\n",
    "\n",
    "    end_time = time.time()\n",
    "\n",
    "    print(f\"The operation lasted {end_time - start_time} seconds.\")\n",
    "countdown()"
   ]
  },
  {
   "cell_type": "markdown",
   "metadata": {},
   "source": [
    "###Challenge_Four: Random Password Generator\n",
    "Write a program using the random module to generate a random password. Include uppercase letters, lowercase letters, numbers, and special characters."
   ]
  },
  {
   "cell_type": "code",
   "execution_count": null,
   "metadata": {},
   "outputs": [],
   "source": [
    "\n",
    "\n",
    "## Write a program using the random module to generate a random password. Include uppercase letters, lowercase letters, numbers, and special characters.\n",
    "\n",
    "def password():\n",
    "    from random import randint\n",
    "    from string import ascii_lowercase as l, ascii_uppercase as u\n",
    "    \n",
    "    \n",
    "    #split the letters from the import into an iterable list\n",
    "    lower = [i for i in l]\n",
    "    upper = [i for i in u]\n",
    "  \n",
    "    #the other inputs\n",
    "    numbers = [str(i) for i in range(0,10)]\n",
    "    specChar = ['!', '@', '&', '?', '/', '_', '+']\n",
    "\n",
    "    ## Generating the password\n",
    "    length = randint(8,12)\n",
    "    password = []\n",
    "    while len(password) < length:\n",
    "        section = randint(1,4)\n",
    "        if section == 1:\n",
    "            leng = len(lower)\n",
    "            pos = randint(1, leng)\n",
    "            fin = lower[pos-1]\n",
    "            password.append(fin)\n",
    "        elif section == 2:\n",
    "            leng = len(upper)\n",
    "            pos = randint(1, leng)\n",
    "            fin = upper[pos-1]\n",
    "            password.append(fin)\n",
    "        elif section == 3:\n",
    "            leng = len(numbers)\n",
    "            pos = randint(1, leng)\n",
    "            fin = numbers[pos-1]\n",
    "            password.append(fin)\n",
    "        elif section == 4:\n",
    "            leng = len(specChar)\n",
    "            pos = randint(1, leng)\n",
    "            fin = specChar[pos-1]\n",
    "            password.append(fin)\n",
    "            \n",
    "    final_pass_ = ''.join(password)           \n",
    "    print(final_pass_)\n",
    "\n",
    "password()"
   ]
  },
  {
   "cell_type": "markdown",
   "metadata": {},
   "source": [
    "N.B. The if-statements are relatively inefficient as I could pass them through a different function (only once) which would save repeating the entire process. There also lacks a verification method to make sure that each of the sections were used in the password as, although unlikely, there is a chance that no special character is present in the final code."
   ]
  },
  {
   "cell_type": "markdown",
   "metadata": {},
   "source": [
    "###Challenge_Five_: Simulated Stopwatch\n",
    "\n",
    "Write a program using the time module that:\n",
    "\n",
    "Starts timing when the user presses Enter.\n",
    "Stops timing when the user presses Enter again.\n",
    "Prints the elapsed time in seconds."
   ]
  },
  {
   "cell_type": "code",
   "execution_count": null,
   "metadata": {},
   "outputs": [],
   "source": [
    "import time\n",
    "\n",
    "def simulated_stopwatch():\n",
    "    #when user inputs 'enter' the timer starts timing\n",
    "    inn = input(\"Press 'enter' to begin the stopwatch: \")\n",
    "    if inn.lower() == \"enter\":\n",
    "        start_time = time.time()\n",
    "        inn2 = input(\"If you want to stop the timer, simply press 'enter' again: \")\n",
    "        if inn2.lower() == \"enter\":\n",
    "            end_time = time.time()\n",
    "    diff = end_time - start_time\n",
    "    print(f\"Your stopwatch measured {diff:.2f} seconds.\")\n",
    "\n",
    "simulated_stopwatch()"
   ]
  }
 ],
 "metadata": {
  "language_info": {
   "name": "python"
  }
 },
 "nbformat": 4,
 "nbformat_minor": 2
}
